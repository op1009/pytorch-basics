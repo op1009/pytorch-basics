{
  "cells": [
    {
      "cell_type": "markdown",
      "metadata": {
        "id": "75qiWcfJb0B4"
      },
      "source": [
        "# Image Classification Neural Network\n"
      ]
    },
    {
      "cell_type": "markdown",
      "source": [
        "Training a neural network involves following tasks\n",
        "1. Dataset preparation\n",
        "2. Loading dataset\n",
        "3. Defining model architecture\n",
        "4. Training\n",
        "\n",
        "    a. Forward pass and Loss calculation\n",
        "\n",
        "    b. Backward pass and Optimisation\n",
        "5. Testing\n",
        "\n",
        "_Assuming dataset is already preprocessed and ready to be used for training_"
      ],
      "metadata": {
        "id": "HtlWKY1mwioF"
      }
    },
    {
      "cell_type": "markdown",
      "metadata": {
        "id": "MiBObQHNxezi"
      },
      "source": [
        "#### MNIST Digit classification\n"
      ]
    },
    {
      "cell_type": "code",
      "execution_count": null,
      "metadata": {
        "colab": {
          "base_uri": "https://localhost:8080/",
          "height": 776
        },
        "id": "UG7r_DB9yK3Q",
        "outputId": "cfbfabe2-b00f-4c8f-a138-5791fb2bbe29"
      },
      "outputs": [
        {
          "name": "stdout",
          "output_type": "stream",
          "text": [
            "device =  cuda\n",
            "Downloading http://yann.lecun.com/exdb/mnist/train-images-idx3-ubyte.gz\n",
            "Downloading http://yann.lecun.com/exdb/mnist/train-images-idx3-ubyte.gz to ./data/MNIST/raw/train-images-idx3-ubyte.gz\n"
          ]
        },
        {
          "name": "stderr",
          "output_type": "stream",
          "text": [
            "100%|██████████| 9912422/9912422 [00:00<00:00, 168013219.55it/s]"
          ]
        },
        {
          "name": "stdout",
          "output_type": "stream",
          "text": [
            "Extracting ./data/MNIST/raw/train-images-idx3-ubyte.gz to ./data/MNIST/raw"
          ]
        },
        {
          "name": "stderr",
          "output_type": "stream",
          "text": [
            "\n"
          ]
        },
        {
          "name": "stdout",
          "output_type": "stream",
          "text": [
            "\n",
            "\n",
            "Downloading http://yann.lecun.com/exdb/mnist/train-labels-idx1-ubyte.gz\n",
            "Downloading http://yann.lecun.com/exdb/mnist/train-labels-idx1-ubyte.gz to ./data/MNIST/raw/train-labels-idx1-ubyte.gz\n"
          ]
        },
        {
          "name": "stderr",
          "output_type": "stream",
          "text": [
            "100%|██████████| 28881/28881 [00:00<00:00, 122855673.25it/s]\n"
          ]
        },
        {
          "name": "stdout",
          "output_type": "stream",
          "text": [
            "Extracting ./data/MNIST/raw/train-labels-idx1-ubyte.gz to ./data/MNIST/raw\n",
            "\n",
            "Downloading http://yann.lecun.com/exdb/mnist/t10k-images-idx3-ubyte.gz\n",
            "Downloading http://yann.lecun.com/exdb/mnist/t10k-images-idx3-ubyte.gz to ./data/MNIST/raw/t10k-images-idx3-ubyte.gz\n"
          ]
        },
        {
          "name": "stderr",
          "output_type": "stream",
          "text": [
            "100%|██████████| 1648877/1648877 [00:00<00:00, 147728108.44it/s]\n"
          ]
        },
        {
          "name": "stdout",
          "output_type": "stream",
          "text": [
            "Extracting ./data/MNIST/raw/t10k-images-idx3-ubyte.gz to ./data/MNIST/raw\n",
            "\n",
            "Downloading http://yann.lecun.com/exdb/mnist/t10k-labels-idx1-ubyte.gz\n",
            "Downloading http://yann.lecun.com/exdb/mnist/t10k-labels-idx1-ubyte.gz to ./data/MNIST/raw/t10k-labels-idx1-ubyte.gz\n"
          ]
        },
        {
          "name": "stderr",
          "output_type": "stream",
          "text": [
            "100%|██████████| 4542/4542 [00:00<00:00, 20934647.00it/s]\n"
          ]
        },
        {
          "name": "stdout",
          "output_type": "stream",
          "text": [
            "Extracting ./data/MNIST/raw/t10k-labels-idx1-ubyte.gz to ./data/MNIST/raw\n",
            "\n"
          ]
        },
        {
          "data": {
            "image/png": "[encoded data removed]",
            "text/plain": [
              "<Figure size 640x480 with 6 Axes>"
            ]
          },
          "metadata": {},
          "output_type": "display_data"
        }
      ],
      "source": [
        "import torch\n",
        "import torch.nn as nn\n",
        "import torchvision\n",
        "import torchvision.transforms as transforms\n",
        "import matplotlib.pyplot as plt\n",
        "\n",
        "# Device config\n",
        "device = torch.device('cuda' if torch.cuda.is_available() else 'cpu')\n",
        "print('device = ', device)\n",
        "\n",
        "# Hyper params\n",
        "input_size = 784  #28 *28\n",
        "hidden_size = 500\n",
        "num_classes = 10\n",
        "num_epochs = 5\n",
        "batch_size = 100\n",
        "learning_rate = 0.001\n",
        "\n",
        "# builtin MNIST Dataset\n",
        "train_dataset = torchvision.datasets.MNIST(root='./data',\n",
        "                                          train = True,\n",
        "                                          transform = transforms.ToTensor(),\n",
        "                                          download = True)\n",
        "\n",
        "test_dataset = torchvision.datasets.MNIST(root='./data',\n",
        "                                          train = False,\n",
        "                                          transform = transforms.ToTensor(),\n",
        "                                          )\n",
        "# Data Loader\n",
        "train_loader = torch.utils.data.DataLoader(dataset = train_dataset,\n",
        "                                           batch_size = batch_size,\n",
        "                                           shuffle = True)\n",
        "\n",
        "test_loader = torch.utils.data.DataLoader(dataset = test_dataset,\n",
        "                                           batch_size = batch_size,\n",
        "                                           shuffle = False)\n",
        "\n",
        "examples = iter(test_loader)\n",
        "example_data, example_target = next(examples)\n",
        "\n",
        "for i in range(6):\n",
        "  plt.subplot(2, 3, (i+1))\n",
        "  plt.imshow(example_data[i][0], cmap = 'gray')\n",
        "plt.show()"
      ]
    },
    {
      "cell_type": "code",
      "execution_count": 18,
      "metadata": {
        "colab": {
          "base_uri": "https://localhost:8080/"
        },
        "id": "t3M4Dx1y1cJn",
        "outputId": "73c8b442-15b4-4b87-d4ea-40bd539671bb"
      },
      "outputs": [
        {
          "output_type": "execute_result",
          "data": {
            "text/plain": [
              "NeuralNet(\n",
              "  (l1): Linear(in_features=784, out_features=500, bias=True)\n",
              "  (relu): ReLU()\n",
              "  (l2): Linear(in_features=500, out_features=10, bias=True)\n",
              ")"
            ]
          },
          "metadata": {},
          "execution_count": 18
        }
      ],
      "source": [
        "# Fully connected neural network with one hidden layer\n",
        "class NeuralNet(nn. Module):\n",
        "  def __init__(self, input_size, hidden_size, num_classes):\n",
        "    super(NeuralNet, self).__init__()\n",
        "    self.l1 = nn.Linear(input_size, hidden_size)\n",
        "    self.relu = nn.ReLU()\n",
        "    self.l2 = nn.Linear(hidden_size, num_classes)\n",
        "\n",
        "  def forward(self, x):\n",
        "    out = self.l1(x)\n",
        "    out = self.relu(out)\n",
        "    out = self.l2(out)\n",
        "\n",
        "    # no activation and no softmax at end as per CELoss documentation\n",
        "    return out\n",
        "\n",
        "# model obj\n",
        "model = NeuralNet(input_size, hidden_size, num_classes)\n",
        "# print(model)\n",
        "\n",
        "model.to(device)"
      ]
    },
    {
      "cell_type": "code",
      "execution_count": 19,
      "metadata": {
        "colab": {
          "base_uri": "https://localhost:8080/"
        },
        "id": "Xg8deAWu3QhB",
        "outputId": "0d9249f3-f0a3-40c4-f694-c32c21ae2dc6"
      },
      "outputs": [
        {
          "output_type": "stream",
          "name": "stdout",
          "text": [
            "Epoch: 1/5, step [100/600], Loss: 0.265\n",
            "Epoch: 1/5, step [200/600], Loss: 0.185\n",
            "Epoch: 1/5, step [300/600], Loss: 0.152\n",
            "Epoch: 1/5, step [400/600], Loss: 0.127\n",
            "Epoch: 1/5, step [500/600], Loss: 0.216\n",
            "Epoch: 1/5, step [600/600], Loss: 0.120\n",
            "Epoch: 2/5, step [100/600], Loss: 0.087\n",
            "Epoch: 2/5, step [200/600], Loss: 0.084\n",
            "Epoch: 2/5, step [300/600], Loss: 0.111\n",
            "Epoch: 2/5, step [400/600], Loss: 0.174\n",
            "Epoch: 2/5, step [500/600], Loss: 0.060\n",
            "Epoch: 2/5, step [600/600], Loss: 0.107\n",
            "Epoch: 3/5, step [100/600], Loss: 0.147\n",
            "Epoch: 3/5, step [200/600], Loss: 0.070\n",
            "Epoch: 3/5, step [300/600], Loss: 0.032\n",
            "Epoch: 3/5, step [400/600], Loss: 0.144\n",
            "Epoch: 3/5, step [500/600], Loss: 0.083\n",
            "Epoch: 3/5, step [600/600], Loss: 0.088\n",
            "Epoch: 4/5, step [100/600], Loss: 0.064\n",
            "Epoch: 4/5, step [200/600], Loss: 0.025\n",
            "Epoch: 4/5, step [300/600], Loss: 0.040\n",
            "Epoch: 4/5, step [400/600], Loss: 0.040\n",
            "Epoch: 4/5, step [500/600], Loss: 0.031\n",
            "Epoch: 4/5, step [600/600], Loss: 0.018\n",
            "Epoch: 5/5, step [100/600], Loss: 0.040\n",
            "Epoch: 5/5, step [200/600], Loss: 0.066\n",
            "Epoch: 5/5, step [300/600], Loss: 0.043\n",
            "Epoch: 5/5, step [400/600], Loss: 0.090\n",
            "Epoch: 5/5, step [500/600], Loss: 0.016\n",
            "Epoch: 5/5, step [600/600], Loss: 0.040\n"
          ]
        }
      ],
      "source": [
        "# Loss and optimizer\n",
        "criterion = nn.CrossEntropyLoss()\n",
        "optimizer = torch.optim.Adam(model.parameters(), lr = learning_rate)\n",
        "\n",
        "# Training model\n",
        "n_total_steps = len(train_loader)\n",
        "\n",
        "for epoch in range(num_epochs):\n",
        "  for i, (images, labels) in enumerate(train_loader):\n",
        "    # origional shape (batchsize, channel, width, height) (100, 1, 28, 28)\n",
        "    # resized (100, 784) as flattened\n",
        "    images = images.reshape(-1, 28*28).to(device)\n",
        "    labels = labels.to(device)\n",
        "\n",
        "    # Forward pass and loss calculation\n",
        "    outputs = model(images)\n",
        "    loss = criterion(outputs, labels)\n",
        "\n",
        "    # Backward and optimization\n",
        "    loss.backward()\n",
        "    optimizer.step()\n",
        "\n",
        "    optimizer.zero_grad()\n",
        "\n",
        "    if (i+1) % 100 == 0:\n",
        "      print(f'Epoch: {epoch+1}/{num_epochs}, step [{i+1}/{n_total_steps}], Loss: {loss:.3f}')"
      ]
    },
    {
      "cell_type": "code",
      "execution_count": 20,
      "metadata": {
        "colab": {
          "base_uri": "https://localhost:8080/"
        },
        "id": "Bg6ZbN2-7ERL",
        "outputId": "343caf85-1596-40f0-8c5d-b6d948716fe8"
      },
      "outputs": [
        {
          "output_type": "stream",
          "name": "stdout",
          "text": [
            "Accuracy of model on 10000 test images: 97.98\n"
          ]
        }
      ],
      "source": [
        "#  Test the model\n",
        "with torch.no_grad():\n",
        "  n_correct = 0\n",
        "  n_samples = len(test_loader.dataset)\n",
        "\n",
        "  for images, labels in test_loader:\n",
        "    images = images.reshape(-1, 28*28).to(device)\n",
        "    labels = labels.to(device)\n",
        "\n",
        "    outputs = model(images)\n",
        "\n",
        "    # max returns\n",
        "    _, predicted = torch.max(outputs, 1)\n",
        "    n_correct += (predicted == labels).sum().item()\n",
        "\n",
        "  accuracy = n_correct / n_samples\n",
        "  print(f'Accuracy of model on {n_samples} test images: {100*accuracy}')"
      ]
    },
    {
      "cell_type": "code",
      "execution_count": 21,
      "metadata": {
        "colab": {
          "base_uri": "https://localhost:8080/"
        },
        "id": "oFtf5P7V97od",
        "outputId": "2cbb73db-5fe0-4312-aa26-d5438adcc2c0"
      },
      "outputs": [
        {
          "output_type": "stream",
          "name": "stdout",
          "text": [
            "----------------------------------------------------------------\n",
            "        Layer (type)               Output Shape         Param #\n",
            "================================================================\n",
            "            Linear-1               [-1, 1, 500]         392,500\n",
            "              ReLU-2               [-1, 1, 500]               0\n",
            "            Linear-3                [-1, 1, 10]           5,010\n",
            "================================================================\n",
            "Total params: 397,510\n",
            "Trainable params: 397,510\n",
            "Non-trainable params: 0\n",
            "----------------------------------------------------------------\n",
            "Input size (MB): 0.00\n",
            "Forward/backward pass size (MB): 0.01\n",
            "Params size (MB): 1.52\n",
            "Estimated Total Size (MB): 1.53\n",
            "----------------------------------------------------------------\n",
            "None\n"
          ]
        }
      ],
      "source": [
        "from torchsummary import summary\n",
        "\n",
        "print(summary(model, (1, input_size)))"
      ]
    },
    {
      "cell_type": "markdown",
      "metadata": {
        "id": "haOoTWrC9Lh9"
      },
      "source": [
        "## CNN based classification\n"
      ]
    },
    {
      "cell_type": "code",
      "execution_count": 22,
      "metadata": {
        "colab": {
          "base_uri": "https://localhost:8080/"
        },
        "id": "OirIBr4C83l7",
        "outputId": "23327ca4-b561-4104-9322-363cfa65fa03"
      },
      "outputs": [
        {
          "output_type": "execute_result",
          "data": {
            "text/plain": [
              "ConvNet(\n",
              "  (conv1): Conv2d(1, 32, kernel_size=(3, 3), stride=(1, 1))\n",
              "  (pool): MaxPool2d(kernel_size=2, stride=2, padding=0, dilation=1, ceil_mode=False)\n",
              "  (conv2): Conv2d(32, 64, kernel_size=(3, 3), stride=(1, 1))\n",
              "  (conv3): Conv2d(64, 128, kernel_size=(3, 3), stride=(1, 1))\n",
              "  (fc1): Linear(in_features=1152, out_features=128, bias=True)\n",
              "  (relu): ReLU()\n",
              "  (fc2): Linear(in_features=128, out_features=10, bias=True)\n",
              ")"
            ]
          },
          "metadata": {},
          "execution_count": 22
        }
      ],
      "source": [
        "# MNIST classification with CNN\n",
        "class ConvNet(nn. Module):\n",
        "  def __init__(self, num_classes):\n",
        "    super(ConvNet, self).__init__()\n",
        "    self.conv1 = nn.Conv2d(1, 32, 3)\n",
        "\n",
        "    self.pool = nn.MaxPool2d(2, 2)\n",
        "\n",
        "    self.conv2 = nn.Conv2d(32, 64, 3)\n",
        "\n",
        "    self.conv3 = nn.Conv2d(64, 128, 3)\n",
        "\n",
        "    self.fc1 = nn.Linear(128*3*3, 128)\n",
        "    self.relu = nn.ReLU()\n",
        "    self.fc2 = nn.Linear(128, num_classes)\n",
        "\n",
        "  def forward(self, x):\n",
        "    out = self.conv1(x)\n",
        "    out = self.relu(out)\n",
        "    out = self.pool(out)\n",
        "\n",
        "    out = self.conv2(out)\n",
        "    out = self.relu(out)\n",
        "    out = self.pool(out)\n",
        "\n",
        "    out = self.conv3(out)\n",
        "    out = self.relu(out)\n",
        "\n",
        "    # print(f\"shape before flattening : {out.shape}\")\n",
        "    out = torch.flatten(out, 1)\n",
        "\n",
        "    out = self.fc1(out)\n",
        "    out = self.relu(out)\n",
        "    out = self.fc2(out)\n",
        "\n",
        "    # no activation and no softmax at end as per CELoss documentation\n",
        "    return out\n",
        "\n",
        "# instantiate the model\n",
        "cnn_model = ConvNet(num_classes)\n",
        "\n",
        "cnn_model.to(device)"
      ]
    },
    {
      "cell_type": "code",
      "execution_count": 23,
      "metadata": {
        "colab": {
          "base_uri": "https://localhost:8080/"
        },
        "id": "WTPSh5AP96N5",
        "outputId": "c229ae97-2de9-4171-a1fe-2e2f85c71e9d"
      },
      "outputs": [
        {
          "output_type": "stream",
          "name": "stdout",
          "text": [
            "----------------------------------------------------------------\n",
            "        Layer (type)               Output Shape         Param #\n",
            "================================================================\n",
            "            Conv2d-1           [-1, 32, 26, 26]             320\n",
            "              ReLU-2           [-1, 32, 26, 26]               0\n",
            "         MaxPool2d-3           [-1, 32, 13, 13]               0\n",
            "            Conv2d-4           [-1, 64, 11, 11]          18,496\n",
            "              ReLU-5           [-1, 64, 11, 11]               0\n",
            "         MaxPool2d-6             [-1, 64, 5, 5]               0\n",
            "            Conv2d-7            [-1, 128, 3, 3]          73,856\n",
            "              ReLU-8            [-1, 128, 3, 3]               0\n",
            "            Linear-9                  [-1, 128]         147,584\n",
            "             ReLU-10                  [-1, 128]               0\n",
            "           Linear-11                   [-1, 10]           1,290\n",
            "================================================================\n",
            "Total params: 241,546\n",
            "Trainable params: 241,546\n",
            "Non-trainable params: 0\n",
            "----------------------------------------------------------------\n",
            "Input size (MB): 0.00\n",
            "Forward/backward pass size (MB): 0.52\n",
            "Params size (MB): 0.92\n",
            "Estimated Total Size (MB): 1.45\n",
            "----------------------------------------------------------------\n",
            "None\n"
          ]
        }
      ],
      "source": [
        "# print model summary\n",
        "from torchsummary import summary\n",
        "\n",
        "print(summary(cnn_model, (1, 28, 28)))"
      ]
    },
    {
      "cell_type": "code",
      "execution_count": 27,
      "metadata": {
        "colab": {
          "base_uri": "https://localhost:8080/"
        },
        "id": "w0e0EkkPA2w5",
        "outputId": "1177be61-c7b2-4473-ccad-8785114092d5"
      },
      "outputs": [
        {
          "output_type": "stream",
          "name": "stdout",
          "text": [
            "Epoch: 1/5, step [100/600], Loss: 0.209\n",
            "Epoch: 1/5, step [200/600], Loss: 0.167\n",
            "Epoch: 1/5, step [300/600], Loss: 0.121\n",
            "Epoch: 1/5, step [400/600], Loss: 0.094\n",
            "Epoch: 1/5, step [500/600], Loss: 0.088\n",
            "Epoch: 1/5, step [600/600], Loss: 0.117\n",
            "Epoch: 2/5, step [100/600], Loss: 0.027\n",
            "Epoch: 2/5, step [200/600], Loss: 0.220\n",
            "Epoch: 2/5, step [300/600], Loss: 0.100\n",
            "Epoch: 2/5, step [400/600], Loss: 0.016\n",
            "Epoch: 2/5, step [500/600], Loss: 0.096\n",
            "Epoch: 2/5, step [600/600], Loss: 0.045\n",
            "Epoch: 3/5, step [100/600], Loss: 0.046\n",
            "Epoch: 3/5, step [200/600], Loss: 0.078\n",
            "Epoch: 3/5, step [300/600], Loss: 0.018\n",
            "Epoch: 3/5, step [400/600], Loss: 0.024\n",
            "Epoch: 3/5, step [500/600], Loss: 0.014\n",
            "Epoch: 3/5, step [600/600], Loss: 0.130\n",
            "Epoch: 4/5, step [100/600], Loss: 0.038\n",
            "Epoch: 4/5, step [200/600], Loss: 0.018\n",
            "Epoch: 4/5, step [300/600], Loss: 0.008\n",
            "Epoch: 4/5, step [400/600], Loss: 0.006\n",
            "Epoch: 4/5, step [500/600], Loss: 0.030\n",
            "Epoch: 4/5, step [600/600], Loss: 0.038\n",
            "Epoch: 5/5, step [100/600], Loss: 0.052\n",
            "Epoch: 5/5, step [200/600], Loss: 0.057\n",
            "Epoch: 5/5, step [300/600], Loss: 0.070\n",
            "Epoch: 5/5, step [400/600], Loss: 0.129\n",
            "Epoch: 5/5, step [500/600], Loss: 0.031\n",
            "Epoch: 5/5, step [600/600], Loss: 0.081\n"
          ]
        }
      ],
      "source": [
        "learning_rate = 0.01\n",
        "# Loss and optimizer\n",
        "criterion = nn.CrossEntropyLoss()\n",
        "optimizer = torch.optim.Adam(cnn_model.parameters(), lr = learning_rate)\n",
        "\n",
        "# Training model\n",
        "n_total_steps = len(train_loader)\n",
        "\n",
        "for epoch in range(num_epochs):\n",
        "  for i, (images, labels) in enumerate(train_loader):\n",
        "    # origional shape (batchsize, channel, width, height) (100, 1, 28, 28)\n",
        "    # resized (100, 784) as flattened\n",
        "    # print(images.shape)\n",
        "    images = images.to(device)\n",
        "    labels = labels.to(device)\n",
        "\n",
        "    # Forward pass and loss calculation\n",
        "    outputs = cnn_model(images)\n",
        "    loss = criterion(outputs, labels)\n",
        "\n",
        "    # Backward and optimization\n",
        "    loss.backward()\n",
        "    optimizer.step()\n",
        "\n",
        "    optimizer.zero_grad()\n",
        "\n",
        "    if (i+1) % 100 == 0:\n",
        "      print(f'Epoch: {epoch+1}/{num_epochs}, step [{i+1}/{n_total_steps}], Loss: {loss:.3f}')"
      ]
    },
    {
      "cell_type": "code",
      "execution_count": 28,
      "metadata": {
        "colab": {
          "base_uri": "https://localhost:8080/"
        },
        "id": "PubwbUnXCWfp",
        "outputId": "b14f719d-82a1-4209-9e4f-099f52ec7363"
      },
      "outputs": [
        {
          "output_type": "stream",
          "name": "stdout",
          "text": [
            "Accuracy of model on 10000 test images: 98.11999999999999\n"
          ]
        }
      ],
      "source": [
        "#  Test the CNN model\n",
        "with torch.no_grad():\n",
        "  n_correct = 0\n",
        "  n_samples = len(test_loader.dataset)\n",
        "\n",
        "  for images, labels in test_loader:\n",
        "    images = images.to(device)\n",
        "    labels = labels.to(device)\n",
        "\n",
        "    outputs = cnn_model(images)\n",
        "\n",
        "    # max returns max value as well as index, index is class\n",
        "    _, predicted = torch.max(outputs, 1)\n",
        "    n_correct += (predicted == labels).sum().item()\n",
        "\n",
        "  accuracy = n_correct / n_samples\n",
        "  print(f'Accuracy of model on {n_samples} test images: {100*accuracy}')"
      ]
    },
    {
      "cell_type": "markdown",
      "metadata": {
        "id": "-CzQ47hCprH2"
      },
      "source": [
        "#### CIFAR10 Dataset classification"
      ]
    },
    {
      "cell_type": "code",
      "execution_count": 29,
      "metadata": {
        "colab": {
          "base_uri": "https://localhost:8080/"
        },
        "id": "GM9M6XH6Hl_W",
        "outputId": "d4d9f103-d3e8-4e48-968d-4dc3d50b184d"
      },
      "outputs": [
        {
          "output_type": "stream",
          "name": "stdout",
          "text": [
            "device =  cuda\n",
            "Downloading https://www.cs.toronto.edu/~kriz/cifar-10-python.tar.gz to ./data/cifar-10-python.tar.gz\n"
          ]
        },
        {
          "output_type": "stream",
          "name": "stderr",
          "text": [
            "100%|██████████| 170498071/170498071 [00:13<00:00, 13039037.69it/s]\n"
          ]
        },
        {
          "output_type": "stream",
          "name": "stdout",
          "text": [
            "Extracting ./data/cifar-10-python.tar.gz to ./data\n",
            "Files already downloaded and verified\n"
          ]
        }
      ],
      "source": [
        "import torch\n",
        "import torch.nn as nn\n",
        "import torchvision\n",
        "import torchvision.transforms as transforms\n",
        "import matplotlib.pyplot as plt\n",
        "\n",
        "# Device config\n",
        "device = torch.device('cuda' if torch.cuda.is_available() else 'cpu')\n",
        "print('device = ', device)\n",
        "\n",
        "batch_size = 500\n",
        "learning_rate = 0.001\n",
        "num_classes = 10\n",
        "\n",
        "# load dataset\n",
        "train_dataset = torchvision.datasets.CIFAR10('./data',\n",
        "                                             train = True,\n",
        "                                             download = True,\n",
        "                                             transform = transforms.ToTensor())\n",
        "\n",
        "test_dataset = torchvision.datasets.CIFAR10('./data',\n",
        "                                             train = False,\n",
        "                                             download = True,\n",
        "                                             transform = transforms.ToTensor())\n",
        "# dataloader\n",
        "train_loader = torch.utils.data.DataLoader(train_dataset,\n",
        "                                           batch_size = batch_size,\n",
        "                                           shuffle = True)\n",
        "\n",
        "test_loader = torch.utils.data.DataLoader(test_dataset,\n",
        "                                           batch_size = batch_size,\n",
        "                                           shuffle = False)\n"
      ]
    },
    {
      "cell_type": "code",
      "execution_count": 32,
      "metadata": {
        "id": "Dh-oAGtIp-5R",
        "colab": {
          "base_uri": "https://localhost:8080/",
          "height": 373
        },
        "outputId": "19366c4f-1753-40a1-ca9a-45ef829cf862"
      },
      "outputs": [
        {
          "output_type": "display_data",
          "data": {
            "text/plain": [
              "<Figure size 640x480 with 8 Axes>"
            ],
            "image/png": "[encoded data removed]"
          },
          "metadata": {}
        }
      ],
      "source": [
        "examples = iter(test_loader)\n",
        "example_data, example_target = next(examples)\n",
        "\n",
        "for i in range(8):\n",
        "  plt.subplot(2, 4, (i+1))\n",
        "  plt.imshow(example_data[i][0])\n",
        "plt.show()"
      ]
    },
    {
      "cell_type": "code",
      "execution_count": 35,
      "metadata": {
        "id": "cQUeJydlqFA8",
        "colab": {
          "base_uri": "https://localhost:8080/"
        },
        "outputId": "c0f80b3d-a081-41c2-a158-7152859c1fdf"
      },
      "outputs": [
        {
          "output_type": "execute_result",
          "data": {
            "text/plain": [
              "CIFARConvNet(\n",
              "  (conv1): Conv2d(3, 32, kernel_size=(3, 3), stride=(1, 1))\n",
              "  (conv2): Conv2d(32, 64, kernel_size=(3, 3), stride=(1, 1))\n",
              "  (conv3): Conv2d(64, 128, kernel_size=(3, 3), stride=(1, 1))\n",
              "  (relu): ReLU()\n",
              "  (pool): MaxPool2d(kernel_size=2, stride=2, padding=0, dilation=1, ceil_mode=False)\n",
              "  (fc1): Linear(in_features=2048, out_features=128, bias=True)\n",
              "  (fc2): Linear(in_features=128, out_features=64, bias=True)\n",
              "  (fc3): Linear(in_features=64, out_features=10, bias=True)\n",
              ")"
            ]
          },
          "metadata": {},
          "execution_count": 35
        }
      ],
      "source": [
        "# define arch\n",
        "class CIFARConvNet(nn.Module):\n",
        "  def __init__(self, num_classes):\n",
        "    super(CIFARConvNet, self).__init__()\n",
        "    self.conv1 = nn.Conv2d(3, 32, 3)\n",
        "    self.conv2 = nn.Conv2d(32, 64, 3)\n",
        "    self.conv3 = nn.Conv2d(64, 128, 3)\n",
        "\n",
        "    self.relu = nn.ReLU()\n",
        "    self.pool = nn.MaxPool2d(2, 2)\n",
        "\n",
        "    self.fc1 = nn.Linear(128*4*4, 128)\n",
        "    self.fc2 = nn.Linear(128, 64)\n",
        "    self.fc3 = nn.Linear(64, num_classes)\n",
        "\n",
        "  def forward(self, x):\n",
        "    out = self.conv1(x)\n",
        "    out = self.relu(out)\n",
        "    out = self.pool(out)\n",
        "\n",
        "    out = self.conv2(out)\n",
        "    out = self.relu(out)\n",
        "    out = self.pool(out)\n",
        "\n",
        "    out = self.conv3(out)\n",
        "    out = self.relu(out)\n",
        "    # out = self.pool(out)\n",
        "\n",
        "    out = torch.flatten(out, 1)\n",
        "\n",
        "    out = self.fc1(out)\n",
        "    out = self.relu(out)\n",
        "\n",
        "    out = self.fc2(out)\n",
        "    out = self.relu(out)\n",
        "    out = self.fc3(out)\n",
        "\n",
        "    return out\n",
        "\n",
        "# instantiate the model\n",
        "cifar_model = CIFARConvNet(num_classes)\n",
        "cifar_model.to(device)"
      ]
    },
    {
      "cell_type": "code",
      "execution_count": 36,
      "metadata": {
        "colab": {
          "base_uri": "https://localhost:8080/"
        },
        "id": "CREUYTS9hueO",
        "outputId": "de756a68-2e89-40c8-dac2-e84c6bed95fd"
      },
      "outputs": [
        {
          "output_type": "stream",
          "name": "stdout",
          "text": [
            "----------------------------------------------------------------\n",
            "        Layer (type)               Output Shape         Param #\n",
            "================================================================\n",
            "            Conv2d-1           [-1, 32, 28, 28]             896\n",
            "              ReLU-2           [-1, 32, 28, 28]               0\n",
            "         MaxPool2d-3           [-1, 32, 14, 14]               0\n",
            "            Conv2d-4           [-1, 64, 12, 12]          18,496\n",
            "              ReLU-5           [-1, 64, 12, 12]               0\n",
            "         MaxPool2d-6             [-1, 64, 6, 6]               0\n",
            "            Conv2d-7            [-1, 128, 4, 4]          73,856\n",
            "              ReLU-8            [-1, 128, 4, 4]               0\n",
            "            Linear-9                  [-1, 128]         262,272\n",
            "             ReLU-10                  [-1, 128]               0\n",
            "           Linear-11                   [-1, 64]           8,256\n",
            "             ReLU-12                   [-1, 64]               0\n",
            "           Linear-13                   [-1, 10]             650\n",
            "================================================================\n",
            "Total params: 364,426\n",
            "Trainable params: 364,426\n",
            "Non-trainable params: 0\n",
            "----------------------------------------------------------------\n",
            "Input size (MB): 0.01\n",
            "Forward/backward pass size (MB): 0.62\n",
            "Params size (MB): 1.39\n",
            "Estimated Total Size (MB): 2.02\n",
            "----------------------------------------------------------------\n",
            "None\n"
          ]
        }
      ],
      "source": [
        "from torchsummary import summary\n",
        "\n",
        "print(summary(cifar_model, (3, 30, 30))) # 30 x 30 RGB image"
      ]
    },
    {
      "cell_type": "code",
      "execution_count": 41,
      "metadata": {
        "colab": {
          "base_uri": "https://localhost:8080/"
        },
        "id": "TnAH7Lnhhr_R",
        "outputId": "fddee22f-32fa-4e0e-9bdc-754cea314eb0"
      },
      "outputs": [
        {
          "output_type": "stream",
          "name": "stdout",
          "text": [
            "Epoch: 1/15, step [100/100], Loss: 0.412\n",
            "Epoch: 2/15, step [100/100], Loss: 0.339\n",
            "Epoch: 3/15, step [100/100], Loss: 0.317\n",
            "Epoch: 4/15, step [100/100], Loss: 0.301\n",
            "Epoch: 5/15, step [100/100], Loss: 0.293\n",
            "Epoch: 6/15, step [100/100], Loss: 0.227\n",
            "Epoch: 7/15, step [100/100], Loss: 0.225\n",
            "Epoch: 8/15, step [100/100], Loss: 0.201\n",
            "Epoch: 9/15, step [100/100], Loss: 0.124\n",
            "Epoch: 10/15, step [100/100], Loss: 0.134\n",
            "Epoch: 11/15, step [100/100], Loss: 0.161\n",
            "Epoch: 12/15, step [100/100], Loss: 0.079\n",
            "Epoch: 13/15, step [100/100], Loss: 0.107\n",
            "Epoch: 14/15, step [100/100], Loss: 0.053\n",
            "Epoch: 15/15, step [100/100], Loss: 0.066\n"
          ]
        }
      ],
      "source": [
        "# train\n",
        "num_epochs = 15\n",
        "learning_rate = 0.001\n",
        "\n",
        "criterion = nn.CrossEntropyLoss()\n",
        "optimizer = torch.optim.Adam(cifar_model.parameters(), lr = learning_rate)\n",
        "\n",
        "n_total_steps = len(train_loader)\n",
        "for epoch in range(num_epochs):\n",
        "  for i, (images, labels) in enumerate(train_loader):\n",
        "\n",
        "    images = images.to(device)\n",
        "    labels = labels.to(device)\n",
        "\n",
        "    # forward and loss\n",
        "    outputs = cifar_model(images)\n",
        "\n",
        "    loss = criterion(outputs, labels)\n",
        "\n",
        "    # backward and optimize\n",
        "    loss.backward()\n",
        "    optimizer.step()\n",
        "\n",
        "    optimizer.zero_grad()\n",
        "\n",
        "    if (i+1) % 100 == 0:\n",
        "      print(f'Epoch: {epoch+1}/{num_epochs}, step [{i+1}/{n_total_steps}], Loss: {loss:.3f}')"
      ]
    },
    {
      "cell_type": "code",
      "execution_count": 42,
      "metadata": {
        "colab": {
          "base_uri": "https://localhost:8080/"
        },
        "id": "CQJMrzp8dkZr",
        "outputId": "2eddb5c2-20b5-4926-b96e-bd965983101c"
      },
      "outputs": [
        {
          "output_type": "stream",
          "name": "stdout",
          "text": [
            "Accuracy of model on 10000 test images: 70.8\n"
          ]
        }
      ],
      "source": [
        "#  Test the CNN model\n",
        "with torch.no_grad():\n",
        "  n_correct = 0\n",
        "  n_samples = len(test_loader.dataset)\n",
        "\n",
        "  for images, labels in test_loader:\n",
        "    images = images.to(device)\n",
        "    labels = labels.to(device)\n",
        "\n",
        "    outputs = cifar_model(images)\n",
        "\n",
        "    # max returns max value as well as index, index is class\n",
        "    _, predicted = torch.max(outputs, 1)\n",
        "    n_correct += (predicted == labels).sum().item()\n",
        "\n",
        "  accuracy = n_correct / n_samples\n",
        "  print(f'Accuracy of model on {n_samples} test images: {100*accuracy}')"
      ]
    }
  ],
  "metadata": {
    "accelerator": "GPU",
    "colab": {
      "gpuType": "T4",
      "provenance": []
    },
    "kernelspec": {
      "display_name": "Python 3",
      "name": "python3"
    },
    "language_info": {
      "name": "python"
    }
  },
  "nbformat": 4,
  "nbformat_minor": 0
}